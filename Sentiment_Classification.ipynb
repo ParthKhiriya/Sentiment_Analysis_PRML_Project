{
  "nbformat": 4,
  "nbformat_minor": 0,
  "metadata": {
    "colab": {
      "provenance": [],
      "authorship_tag": "ABX9TyPnuZsBbodxtbPzcWn0JnLP",
      "include_colab_link": true
    },
    "kernelspec": {
      "name": "python3",
      "display_name": "Python 3"
    },
    "language_info": {
      "name": "python"
    }
  },
  "cells": [
    {
      "cell_type": "markdown",
      "metadata": {
        "id": "view-in-github",
        "colab_type": "text"
      },
      "source": [
        "<a href=\"https://colab.research.google.com/github/ParthKhiriya/Sentiment_Analysis_PRML_Project/blob/3-model-branch/Sentiment_Classification.ipynb\" target=\"_parent\"><img src=\"https://colab.research.google.com/assets/colab-badge.svg\" alt=\"Open In Colab\"/></a>"
      ]
    },
    {
      "cell_type": "code",
      "execution_count": 2,
      "metadata": {
        "colab": {
          "base_uri": "https://localhost:8080/"
        },
        "id": "bMoQd6u2iFpV",
        "outputId": "01e6e45b-4ed4-4e95-9084-f4057b62573d"
      },
      "outputs": [
        {
          "output_type": "stream",
          "name": "stderr",
          "text": [
            "[nltk_data] Downloading package stopwords to /root/nltk_data...\n",
            "[nltk_data]   Unzipping corpora/stopwords.zip.\n"
          ]
        }
      ],
      "source": [
        "import pandas as pd\n",
        "import numpy as np\n",
        "import re\n",
        "import string\n",
        "import seaborn as sns\n",
        "import matplotlib.pyplot as plt\n",
        "from matplotlib import style\n",
        "style.use('ggplot')\n",
        "from textblob import TextBlob\n",
        "import nltk\n",
        "from nltk.tokenize import word_tokenize\n",
        "from nltk.stem import PorterStemmer\n",
        "from nltk.corpus import stopwords\n",
        "nltk.download('stopwords')\n",
        "stop_words = set(stopwords.words('english'))\n",
        "from wordcloud import WordCloud\n",
        "from sklearn.feature_extraction.text import CountVectorizer\n",
        "from sklearn.model_selection import train_test_split\n",
        "from sklearn.linear_model import LogisticRegression\n",
        "from sklearn.metrics import accuracy_score, classification_report, confusion_matrix, ConfusionMatrixDisplay"
      ]
    },
    {
      "cell_type": "code",
      "source": [
        "# Installing the kaggle library\n",
        "! pip install kaggle"
      ],
      "metadata": {
        "colab": {
          "base_uri": "https://localhost:8080/"
        },
        "id": "BdKcQf5-j0ka",
        "outputId": "37afc1af-96a3-452a-d28b-7693fbdbc90e"
      },
      "execution_count": 3,
      "outputs": [
        {
          "output_type": "stream",
          "name": "stdout",
          "text": [
            "Requirement already satisfied: kaggle in /usr/local/lib/python3.11/dist-packages (1.7.4.2)\n",
            "Requirement already satisfied: bleach in /usr/local/lib/python3.11/dist-packages (from kaggle) (6.2.0)\n",
            "Requirement already satisfied: certifi>=14.05.14 in /usr/local/lib/python3.11/dist-packages (from kaggle) (2025.1.31)\n",
            "Requirement already satisfied: charset-normalizer in /usr/local/lib/python3.11/dist-packages (from kaggle) (3.4.1)\n",
            "Requirement already satisfied: idna in /usr/local/lib/python3.11/dist-packages (from kaggle) (3.10)\n",
            "Requirement already satisfied: protobuf in /usr/local/lib/python3.11/dist-packages (from kaggle) (5.29.4)\n",
            "Requirement already satisfied: python-dateutil>=2.5.3 in /usr/local/lib/python3.11/dist-packages (from kaggle) (2.8.2)\n",
            "Requirement already satisfied: python-slugify in /usr/local/lib/python3.11/dist-packages (from kaggle) (8.0.4)\n",
            "Requirement already satisfied: requests in /usr/local/lib/python3.11/dist-packages (from kaggle) (2.32.3)\n",
            "Requirement already satisfied: setuptools>=21.0.0 in /usr/local/lib/python3.11/dist-packages (from kaggle) (75.2.0)\n",
            "Requirement already satisfied: six>=1.10 in /usr/local/lib/python3.11/dist-packages (from kaggle) (1.17.0)\n",
            "Requirement already satisfied: text-unidecode in /usr/local/lib/python3.11/dist-packages (from kaggle) (1.3)\n",
            "Requirement already satisfied: tqdm in /usr/local/lib/python3.11/dist-packages (from kaggle) (4.67.1)\n",
            "Requirement already satisfied: urllib3>=1.15.1 in /usr/local/lib/python3.11/dist-packages (from kaggle) (2.3.0)\n",
            "Requirement already satisfied: webencodings in /usr/local/lib/python3.11/dist-packages (from kaggle) (0.5.1)\n"
          ]
        }
      ]
    },
    {
      "cell_type": "code",
      "source": [
        "# configuring the path of kaggle.json file\n",
        "!mkdir -p ~/.kaggle\n",
        "!cp kaggle.json ~/.kaggle/\n",
        "!chmod 600 ~/.kaggle/kaggle.json"
      ],
      "metadata": {
        "id": "E92M9SUMj1Xt"
      },
      "execution_count": 4,
      "outputs": []
    },
    {
      "cell_type": "code",
      "source": [
        "# Fetching the API to download the dataset\n",
        "! kaggle datasets download -d abhi8923shriv/sentiment-analysis-dataset"
      ],
      "metadata": {
        "colab": {
          "base_uri": "https://localhost:8080/"
        },
        "id": "EJa3gUPTj39B",
        "outputId": "f438a7be-dc6b-408f-9098-befc8815b94c"
      },
      "execution_count": 5,
      "outputs": [
        {
          "output_type": "stream",
          "name": "stdout",
          "text": [
            "Dataset URL: https://www.kaggle.com/datasets/abhi8923shriv/sentiment-analysis-dataset\n",
            "License(s): CC0-1.0\n"
          ]
        }
      ]
    },
    {
      "cell_type": "code",
      "source": [
        "from zipfile import ZipFile\n",
        "dataset = '/content/sentiment-analysis-dataset.zip'\n",
        "\n",
        "with ZipFile(dataset,'r') as zip:\n",
        "  zip.extractall()\n",
        "  print('The dataset is extracted')"
      ],
      "metadata": {
        "colab": {
          "base_uri": "https://localhost:8080/"
        },
        "id": "GskXsxAZkSim",
        "outputId": "49d80357-8a9e-46e5-8749-153fcfb0645d"
      },
      "execution_count": 6,
      "outputs": [
        {
          "output_type": "stream",
          "name": "stdout",
          "text": [
            "The dataset is extracted\n"
          ]
        }
      ]
    },
    {
      "cell_type": "code",
      "source": [
        "# Loading the main dataset and also the train and test set\n",
        "df_train = pd.read_csv('train.csv', encoding='latin-1', header= None)\n",
        "df_train = df_train.drop(labels=0)\n",
        "df_train.columns = [\"textID\",\"text\",\"selected_text\",\"sentiment\",\"Time of Tweet\",\"Age of User\",\"Country\",\"Population -2020\",\"Land Area (Km²)\",\"Density (P/Km²)\"]\n",
        "\n",
        "# This gives the information about our data,  like what are the datatypes of content present in all the columns and also the null count\n",
        "df_train = df_train.drop([\"textID\",\"selected_text\",\"Time of Tweet\",\"Age of User\",\"Country\",\"Population -2020\",\"Land Area (Km²)\",\"Density (P/Km²)\"], axis=1)\n",
        "df_train = df_train.dropna()\n",
        "print(df_train)"
      ],
      "metadata": {
        "colab": {
          "base_uri": "https://localhost:8080/"
        },
        "id": "bTXB1rg_l1qt",
        "outputId": "1db73925-05bf-4856-85f7-ee6d7ca05e84"
      },
      "execution_count": 7,
      "outputs": [
        {
          "output_type": "stream",
          "name": "stdout",
          "text": [
            "                                                    text sentiment\n",
            "1                    I`d have responded, if I were going   neutral\n",
            "2          Sooo SAD I will miss you here in San Diego!!!  negative\n",
            "3                              my boss is bullying me...  negative\n",
            "4                         what interview! leave me alone  negative\n",
            "5       Sons of ****, why couldn`t they put them on t...  negative\n",
            "...                                                  ...       ...\n",
            "27477   wish we could come see u on Denver  husband l...  negative\n",
            "27478   I`ve wondered about rake to.  The client has ...  negative\n",
            "27479   Yay good for both of you. Enjoy the break - y...  positive\n",
            "27480                         But it was worth it  ****.  positive\n",
            "27481     All this flirting going on - The ATG smiles...   neutral\n",
            "\n",
            "[27480 rows x 2 columns]\n"
          ]
        }
      ]
    },
    {
      "cell_type": "code",
      "source": [
        "# Loading the main dataset and also the train and test set\n",
        "df_test = pd.read_csv('test.csv', encoding='latin-1', header= None)\n",
        "df_test = df_test.drop(labels=0)\n",
        "df_test.columns = [\"textID\",\"text\",\"sentiment\",\"Time of Tweet\",\"Age of User\",\"Country\",\"Population -2020\",\"Land Area (Km²)\",\"Density (P/Km²)\"]\n",
        "\n",
        "# This gives the information about our data,  like what are the datatypes of content present in all the columns and also the null count\n",
        "df_test = df_test.drop([\"textID\",\"Time of Tweet\",\"Age of User\",\"Country\",\"Population -2020\",\"Land Area (Km²)\",\"Density (P/Km²)\"], axis=1)\n",
        "df_test = df_test.dropna()\n",
        "print(df_test)"
      ],
      "metadata": {
        "colab": {
          "base_uri": "https://localhost:8080/"
        },
        "id": "kP4wSsC-sYE2",
        "outputId": "5468c565-ef7e-4509-ddf7-f1b8df377a2f"
      },
      "execution_count": 8,
      "outputs": [
        {
          "output_type": "stream",
          "name": "stdout",
          "text": [
            "                                                   text sentiment\n",
            "1     Last session of the day  http://twitpic.com/67ezh   neutral\n",
            "2      Shanghai is also really exciting (precisely -...  positive\n",
            "3     Recession hit Veronique Branquinho, she has to...  negative\n",
            "4                                           happy bday!  positive\n",
            "5                http://twitpic.com/4w75p - I like it!!  positive\n",
            "...                                                 ...       ...\n",
            "3530  its at 3 am, im very tired but i can`t sleep  ...  negative\n",
            "3531  All alone in this old house again.  Thanks for...  positive\n",
            "3532   I know what you mean. My little dog is sinkin...  negative\n",
            "3533  _sutra what is your next youtube video gonna b...  positive\n",
            "3534   http://twitpic.com/4woj2 - omgssh  ang cute n...  positive\n",
            "\n",
            "[3534 rows x 2 columns]\n"
          ]
        }
      ]
    },
    {
      "cell_type": "code",
      "source": [
        "df = pd.concat([df_train, df_test], ignore_index=True)\n",
        "\n",
        "# Shuffle the dataset (good practice before splitting again)\n",
        "df = df.sample(frac=1, random_state=42).reset_index(drop=True)\n",
        "\n",
        "# Showing basic info\n",
        "print(df.shape)\n",
        "print(df.head())"
      ],
      "metadata": {
        "colab": {
          "base_uri": "https://localhost:8080/"
        },
        "id": "BaLO1ZOdx3xC",
        "outputId": "14fe4d4b-bc47-4ef7-e7ca-a401f03a06a9"
      },
      "execution_count": 9,
      "outputs": [
        {
          "output_type": "stream",
          "name": "stdout",
          "text": [
            "(31014, 2)\n",
            "                                                text sentiment\n",
            "0           I was afraid you were going to say that.  negative\n",
            "1   part 2: social networking??.. there is even r...   neutral\n",
            "2  i miss the one who would do anything to spend ...  negative\n",
            "3    tee we beefin....what was u supposed to do b...   neutral\n",
            "4              Happy Hug Your Mom Day!! love you mom  positive\n"
          ]
        }
      ]
    },
    {
      "cell_type": "code",
      "source": [
        "sentiment_ordering = ['negative', 'neutral', 'positive']\n",
        "\n",
        "df[\"sentiment\"] = df[\"sentiment\"].apply(lambda x: sentiment_ordering.index(x))\n",
        "print(df)"
      ],
      "metadata": {
        "colab": {
          "base_uri": "https://localhost:8080/"
        },
        "id": "qPcyLF9W16n2",
        "outputId": "8cf0dbd0-eee7-49e8-a3a1-4fa7fea48f5f"
      },
      "execution_count": 10,
      "outputs": [
        {
          "output_type": "stream",
          "name": "stdout",
          "text": [
            "                                                    text  sentiment\n",
            "0               I was afraid you were going to say that.          0\n",
            "1       part 2: social networking??.. there is even r...          1\n",
            "2      i miss the one who would do anything to spend ...          0\n",
            "3        tee we beefin....what was u supposed to do b...          1\n",
            "4                  Happy Hug Your Mom Day!! love you mom          2\n",
            "...                                                  ...        ...\n",
            "31009                 thanks to  and i`m now on twitter!          2\n",
            "31010              My best friend is in vegas without me          1\n",
            "31011  http://twitpic.com/4jken - fire and urban at r...          1\n",
            "31012          A+ for effort though  http://bit.ly/Mco5v          2\n",
            "31013  claire  love the show, got into the office @ 5...          2\n",
            "\n",
            "[31014 rows x 2 columns]\n"
          ]
        }
      ]
    },
    {
      "cell_type": "code",
      "source": [
        "df['sentiment'].value_counts()\n",
        "\n",
        "# Since value_counts() is showing two different types of 0s so we have to check what is the problem\n",
        "print(df['sentiment'].unique())\n",
        "print(df['sentiment'].value_counts())"
      ],
      "metadata": {
        "colab": {
          "base_uri": "https://localhost:8080/"
        },
        "id": "UmYQ-6f81sAw",
        "outputId": "911d7ee9-8f09-410a-95aa-e659ea8478bb"
      },
      "execution_count": 11,
      "outputs": [
        {
          "output_type": "stream",
          "name": "stdout",
          "text": [
            "[0 1 2]\n",
            "sentiment\n",
            "1    12547\n",
            "2     9685\n",
            "0     8782\n",
            "Name: count, dtype: int64\n"
          ]
        }
      ]
    },
    {
      "cell_type": "code",
      "source": [
        "# This function performs basic tasks for cleaning the data such as lowercasing, URL handling etc.\n",
        "def clean_text(text):\n",
        "\n",
        "    text = text.lower()  # Lowercasing\n",
        "    text = re.sub(r'http\\S+|www.\\S+', '', text)  # Remove URLs\n",
        "    text = re.sub(r'@\\w+|#\\w+', '', text)  # Remove mentions and hashtags\n",
        "    text = text.translate(str.maketrans('', '', string.punctuation))  # Remove punctuation\n",
        "    text = re.sub(r'\\d+', '', text)  # Remove numbers\n",
        "    return text.strip()\n",
        "\n",
        "# Save the cleaned text in our dataframe\n",
        "df['cleaned_text'] = df['text'].apply(clean_text)\n",
        "\n",
        "# Tokenisation - splits the dataset into an array of words(nltk generally performs word tokenisation i.e. seperating words) for better handling of punctuations\n",
        "df['tokens'] = df['cleaned_text'].apply(lambda x: x.split())\n",
        "\n",
        "# Removing all the stopwords because it will not impact the sentiment of the tweet\n",
        "stop_words = set(stopwords.words('english'))\n",
        "df['tokens'] = df['tokens'].apply(lambda tokens: [word for word in tokens if word not in stop_words])\n",
        "\n",
        "# Then stemming(converting a word into its root word e.g. acting, actor to act)\n",
        "stemmer = PorterStemmer()\n",
        "df['stemmed_text'] = df['tokens'].apply(lambda tokens: ' '.join([stemmer.stem(word) for word in tokens]))\n",
        "\n",
        "print(df)"
      ],
      "metadata": {
        "colab": {
          "base_uri": "https://localhost:8080/"
        },
        "id": "siRqIOo22LKk",
        "outputId": "01cfcdc2-5528-4a1b-f289-66ced7bc13ba"
      },
      "execution_count": 12,
      "outputs": [
        {
          "output_type": "stream",
          "name": "stdout",
          "text": [
            "                                                    text  sentiment  \\\n",
            "0               I was afraid you were going to say that.          0   \n",
            "1       part 2: social networking??.. there is even r...          1   \n",
            "2      i miss the one who would do anything to spend ...          0   \n",
            "3        tee we beefin....what was u supposed to do b...          1   \n",
            "4                  Happy Hug Your Mom Day!! love you mom          2   \n",
            "...                                                  ...        ...   \n",
            "31009                 thanks to  and i`m now on twitter!          2   \n",
            "31010              My best friend is in vegas without me          1   \n",
            "31011  http://twitpic.com/4jken - fire and urban at r...          1   \n",
            "31012          A+ for effort though  http://bit.ly/Mco5v          2   \n",
            "31013  claire  love the show, got into the office @ 5...          2   \n",
            "\n",
            "                                            cleaned_text  \\\n",
            "0                i was afraid you were going to say that   \n",
            "1      part  social networking there is even room for...   \n",
            "2      i miss the one who would do anything to spend ...   \n",
            "3      tee we beefinwhat was u supposed to do before ...   \n",
            "4                    happy hug your mom day love you mom   \n",
            "...                                                  ...   \n",
            "31009                   thanks to  and im now on twitter   \n",
            "31010              my best friend is in vegas without me   \n",
            "31011                   fire and urban at rock challenge   \n",
            "31012                                a for effort though   \n",
            "31013  claire  love the show got into the office  am ...   \n",
            "\n",
            "                                                  tokens  \\\n",
            "0                                   [afraid, going, say]   \n",
            "1         [part, social, networking, even, room, people]   \n",
            "2      [miss, one, would, anything, spend, min, one, ...   \n",
            "3                 [tee, beefinwhat, u, supposed, leavin]   \n",
            "4                      [happy, hug, mom, day, love, mom]   \n",
            "...                                                  ...   \n",
            "31009                              [thanks, im, twitter]   \n",
            "31010                     [best, friend, vegas, without]   \n",
            "31011                     [fire, urban, rock, challenge]   \n",
            "31012                                   [effort, though]   \n",
            "31013           [claire, love, show, got, office, radio]   \n",
            "\n",
            "                                          stemmed_text  \n",
            "0                                        afraid go say  \n",
            "1                  part social network even room peopl  \n",
            "2      miss one would anyth spend min one use say tell  \n",
            "3                       tee beefinwhat u suppos leavin  \n",
            "4                           happi hug mom day love mom  \n",
            "...                                                ...  \n",
            "31009                                 thank im twitter  \n",
            "31010                         best friend vega without  \n",
            "31011                         fire urban rock challeng  \n",
            "31012                                    effort though  \n",
            "31013                  clair love show got offic radio  \n",
            "\n",
            "[31014 rows x 5 columns]\n"
          ]
        }
      ]
    },
    {
      "cell_type": "code",
      "source": [
        "from sklearn.model_selection import train_test_split\n",
        "\n",
        "X = df['stemmed_text']\n",
        "y = df['sentiment']\n",
        "\n",
        "X_train, X_test, y_train, y_test = train_test_split(X, y, test_size=0.2,stratify= y, random_state=42)\n",
        "\n",
        "print(X.shape, X_train.shape, X_test.shape)"
      ],
      "metadata": {
        "colab": {
          "base_uri": "https://localhost:8080/"
        },
        "id": "NJQvXkI52cwX",
        "outputId": "6f634290-c80f-4478-da14-92c2e444dca8"
      },
      "execution_count": 13,
      "outputs": [
        {
          "output_type": "stream",
          "name": "stdout",
          "text": [
            "(31014,) (24811,) (6203,)\n"
          ]
        }
      ]
    },
    {
      "cell_type": "code",
      "source": [
        "from sklearn.feature_extraction.text import TfidfVectorizer\n",
        "\n",
        "vectorizer = TfidfVectorizer()\n",
        "X_train = vectorizer.fit_transform(X_train)\n",
        "X_test = vectorizer.transform(X_test)\n",
        "\n",
        "print(f\"Training Data:\\n {X_train}\")\n",
        "print(f\"Testing Data:\\n {X_test}\")"
      ],
      "metadata": {
        "colab": {
          "base_uri": "https://localhost:8080/"
        },
        "id": "grf2o3d-2m_7",
        "outputId": "ed37bdf2-6359-4065-c2eb-0ba273217b8f"
      },
      "execution_count": 14,
      "outputs": [
        {
          "output_type": "stream",
          "name": "stdout",
          "text": [
            "Training Data:\n",
            " <Compressed Sparse Row sparse matrix of dtype 'float64'\n",
            "\twith 170788 stored elements and shape (24811, 19951)>\n",
            "  Coords\tValues\n",
            "  (0, 6746)\t0.1576184745171829\n",
            "  (0, 3788)\t0.30025083424054577\n",
            "  (0, 16495)\t0.2986435589723957\n",
            "  (0, 7453)\t0.2531550567464741\n",
            "  (0, 121)\t0.3533842769946217\n",
            "  (0, 7564)\t0.2922776098063534\n",
            "  (0, 9555)\t0.36336571468762907\n",
            "  (0, 1611)\t0.3680785975657046\n",
            "  (0, 15360)\t0.2720598561485078\n",
            "  (0, 11114)\t0.21876023862030103\n",
            "  (0, 335)\t0.36336571468762907\n",
            "  (1, 6746)\t0.17737105739448014\n",
            "  (1, 7677)\t0.4899160560389565\n",
            "  (1, 16988)\t0.5248067699449726\n",
            "  (1, 19925)\t0.5248067699449726\n",
            "  (1, 19252)\t0.3226354636996705\n",
            "  (1, 14776)\t0.27126339973749825\n",
            "  (2, 16960)\t0.1360862675700317\n",
            "  (2, 8547)\t0.324737343480285\n",
            "  (2, 9034)\t0.324737343480285\n",
            "  (2, 655)\t0.5328723799301739\n",
            "  (2, 2389)\t0.324737343480285\n",
            "  (2, 7721)\t0.324737343480285\n",
            "  (2, 6643)\t0.324737343480285\n",
            "  (2, 6640)\t0.296197571872595\n",
            "  :\t:\n",
            "  (24807, 4476)\t0.5047932663896494\n",
            "  (24807, 5426)\t0.5047932663896494\n",
            "  (24808, 10053)\t0.28026128245432746\n",
            "  (24808, 17903)\t0.34578929641024236\n",
            "  (24808, 11685)\t0.324481062793836\n",
            "  (24808, 9723)\t0.40029280473256096\n",
            "  (24808, 11643)\t0.732366770418134\n",
            "  (24809, 6656)\t0.2628725327365214\n",
            "  (24809, 2635)\t0.39750596863403886\n",
            "  (24809, 1423)\t0.41666827728442773\n",
            "  (24809, 19609)\t0.4599722397377873\n",
            "  (24809, 13848)\t0.40426892425990774\n",
            "  (24809, 2198)\t0.4735681140935998\n",
            "  (24810, 6046)\t0.2328344666942799\n",
            "  (24810, 13916)\t0.20393486224970148\n",
            "  (24810, 14872)\t0.31144528342493116\n",
            "  (24810, 6977)\t0.21833279806711298\n",
            "  (24810, 7451)\t0.27454600217810704\n",
            "  (24810, 4663)\t0.29098246825393587\n",
            "  (24810, 4269)\t0.3623839544531678\n",
            "  (24810, 5688)\t0.28772774156901904\n",
            "  (24810, 744)\t0.2804899099292602\n",
            "  (24810, 9602)\t0.26252291821249063\n",
            "  (24810, 12390)\t0.38613168004679527\n",
            "  (24810, 14420)\t0.29780039195338576\n",
            "Testing Data:\n",
            " <Compressed Sparse Row sparse matrix of dtype 'float64'\n",
            "\twith 39724 stored elements and shape (6203, 19951)>\n",
            "  Coords\tValues\n",
            "  (0, 5506)\t0.24638409745780568\n",
            "  (0, 6477)\t0.4338734137879871\n",
            "  (0, 6646)\t0.4338734137879871\n",
            "  (0, 8783)\t0.4338734137879871\n",
            "  (0, 14310)\t0.4170000569047181\n",
            "  (0, 14457)\t0.3957421412849536\n",
            "  (0, 17450)\t0.2098941854755356\n",
            "  (1, 5688)\t0.31791515179666036\n",
            "  (1, 6237)\t0.4997778666536383\n",
            "  (1, 7930)\t0.4132634436201847\n",
            "  (1, 12433)\t0.3215113532697942\n",
            "  (1, 17042)\t0.3234116093570423\n",
            "  (1, 17602)\t0.5200007183457966\n",
            "  (2, 1686)\t0.6502469117520207\n",
            "  (2, 7451)\t0.473838035576889\n",
            "  (2, 17412)\t0.593848861072912\n",
            "  (3, 2260)\t0.24163266750645204\n",
            "  (3, 2632)\t0.2399384524574477\n",
            "  (3, 5801)\t0.49465353446411187\n",
            "  (3, 9829)\t0.17696217332965483\n",
            "  (3, 14882)\t0.14303649007858155\n",
            "  (3, 15800)\t0.45545093869000913\n",
            "  (3, 17176)\t0.4832653350129041\n",
            "  (3, 17683)\t0.21681634247048306\n",
            "  (3, 18987)\t0.20775974271603126\n",
            "  :\t:\n",
            "  (6198, 14100)\t0.5591298196914126\n",
            "  (6198, 16708)\t0.4483464487643223\n",
            "  (6199, 1651)\t0.3339847183444466\n",
            "  (6199, 3697)\t0.31920486257000247\n",
            "  (6199, 4125)\t0.21494527273661265\n",
            "  (6199, 9723)\t0.34815609430762157\n",
            "  (6199, 12842)\t0.4224386935832501\n",
            "  (6199, 18464)\t0.4621107780446582\n",
            "  (6199, 19198)\t0.29642856880141755\n",
            "  (6199, 19669)\t0.37319915584801744\n",
            "  (6200, 19327)\t1.0\n",
            "  (6201, 19158)\t0.7839404486081781\n",
            "  (6201, 19588)\t0.6208360274951898\n",
            "  (6202, 3199)\t0.29439235976022143\n",
            "  (6202, 4415)\t0.4003986649871708\n",
            "  (6202, 5444)\t0.2428260010242821\n",
            "  (6202, 9834)\t0.23883115986979422\n",
            "  (6202, 11356)\t0.2619422076702668\n",
            "  (6202, 11605)\t0.195648427677801\n",
            "  (6202, 13263)\t0.26225759852151287\n",
            "  (6202, 13368)\t0.42190671314935735\n",
            "  (6202, 18710)\t0.18430740024766218\n",
            "  (6202, 18767)\t0.20046956043672015\n",
            "  (6202, 18824)\t0.28581993126140076\n",
            "  (6202, 19735)\t0.3570470730090842\n"
          ]
        }
      ]
    },
    {
      "cell_type": "code",
      "source": [
        "from sklearn.linear_model import LogisticRegression\n",
        "from sklearn.metrics import accuracy_score\n",
        "\n",
        "log_reg = LogisticRegression(max_iter=1000)\n",
        "log_reg.fit(X_train, y_train)\n",
        "\n",
        "y_pred_train_logistic = log_reg.predict(X_train)\n",
        "accuracy_train_logistic = accuracy_score(y_train, y_pred_train_logistic)\n",
        "print(f\"Training accuracy : {accuracy_train_logistic}\")\n",
        "\n",
        "y_pred_test_logistic = log_reg.predict(X_test)\n",
        "accuracy_test_logistic = accuracy_score(y_test, y_pred_test_logistic)\n",
        "print(f\"Testing accuracy : {accuracy_test_logistic}\")"
      ],
      "metadata": {
        "colab": {
          "base_uri": "https://localhost:8080/"
        },
        "id": "HR2HOOe62q8K",
        "outputId": "c63c4fa9-6df2-411c-fb9f-9a3c3e259df9"
      },
      "execution_count": 15,
      "outputs": [
        {
          "output_type": "stream",
          "name": "stdout",
          "text": [
            "Training accuracy : 0.8062955946959011\n",
            "Testing accuracy : 0.6948250846364662\n"
          ]
        }
      ]
    },
    {
      "cell_type": "code",
      "source": [
        "from sklearn.linear_model import LinearRegression\n",
        "from sklearn.metrics import r2_score\n",
        "\n",
        "lin_reg = LinearRegression()\n",
        "lin_reg.fit(X_train, y_train)\n",
        "\n",
        "y_pred_train_linear = lin_reg.predict(X_train)\n",
        "r2_train_linear = accuracy_score(y_train, y_pred_train_linear)\n",
        "print(f\"Training accuracy : {r2_train_linear}\")\n",
        "\n",
        "y_pred_test_linear = lin_reg.predict(X_test)\n",
        "r2_test_linear = accuracy_score(y_test, y_pred_test_linear)\n",
        "print(f\"Testing accuracy : {r2_test_linear}\")"
      ],
      "metadata": {
        "colab": {
          "base_uri": "https://localhost:8080/"
        },
        "id": "A-7k3jzP2uo7",
        "outputId": "83239677-1a9f-4713-c279-0adda0307caa"
      },
      "execution_count": 16,
      "outputs": [
        {
          "output_type": "stream",
          "name": "stdout",
          "text": [
            "Training accuracy : 0.8414899403815954\n",
            "Testing accuracy : -0.03909002572318632\n"
          ]
        }
      ]
    },
    {
      "cell_type": "code",
      "source": [
        "from sklearn.svm import SVC\n",
        "\n",
        "svm_model = SVC(kernel='linear')\n",
        "svm_model.fit(X_train, y_train)\n",
        "\n",
        "y_pred_svm = svm_model.predict(X_test)\n",
        "print(\"SVM Accuracy:\", accuracy_score(y_test, y_pred_svm))\n"
      ],
      "metadata": {
        "colab": {
          "base_uri": "https://localhost:8080/"
        },
        "id": "8Gp8r7d_20a-",
        "outputId": "5b83f03a-4cc0-4a08-8839-cbf19d88ce72"
      },
      "execution_count": 17,
      "outputs": [
        {
          "output_type": "stream",
          "name": "stdout",
          "text": [
            "SVM Accuracy: 0.7114299532484282\n"
          ]
        }
      ]
    },
    {
      "cell_type": "code",
      "source": [
        "from sklearn.naive_bayes import MultinomialNB\n",
        "\n",
        "nb_model = MultinomialNB()\n",
        "nb_model.fit(X_train, y_train)\n",
        "\n",
        "y_pred_nb = nb_model.predict(X_test)\n",
        "print(\"Naïve Bayes Accuracy:\", accuracy_score(y_test, y_pred_nb))\n"
      ],
      "metadata": {
        "colab": {
          "base_uri": "https://localhost:8080/"
        },
        "id": "OvHXA4mB26b7",
        "outputId": "b6ed6a14-bcfe-46d6-d11d-bc254dad21e3"
      },
      "execution_count": 18,
      "outputs": [
        {
          "output_type": "stream",
          "name": "stdout",
          "text": [
            "Naïve Bayes Accuracy: 0.6167983233919071\n"
          ]
        }
      ]
    },
    {
      "cell_type": "code",
      "source": [
        "from xgboost import XGBClassifier\n",
        "\n",
        "xgb_model = XGBClassifier(use_label_encoder=False, eval_metric='logloss')\n",
        "xgb_model.fit(X_train, y_train)\n",
        "\n",
        "y_pred_xgb = xgb_model.predict(X_test)\n",
        "print(\"XGBoost Accuracy:\", accuracy_score(y_test, y_pred_xgb))\n"
      ],
      "metadata": {
        "colab": {
          "base_uri": "https://localhost:8080/"
        },
        "id": "qU5wlb_23gGc",
        "outputId": "17ec2131-1d89-4015-f99c-c8ccdc4ed5b8"
      },
      "execution_count": 19,
      "outputs": [
        {
          "output_type": "stream",
          "name": "stderr",
          "text": [
            "/usr/local/lib/python3.11/dist-packages/xgboost/core.py:158: UserWarning: [17:28:32] WARNING: /workspace/src/learner.cc:740: \n",
            "Parameters: { \"use_label_encoder\" } are not used.\n",
            "\n",
            "  warnings.warn(smsg, UserWarning)\n"
          ]
        },
        {
          "output_type": "stream",
          "name": "stdout",
          "text": [
            "XGBoost Accuracy: 0.7061099467999356\n"
          ]
        }
      ]
    },
    {
      "cell_type": "code",
      "source": [
        "from sklearn.tree import DecisionTreeClassifier\n",
        "from sklearn.metrics import classification_report\n",
        "\n",
        "# Initialize the Decision Tree Classifier\n",
        "dt_clf = DecisionTreeClassifier(random_state=42)\n",
        "\n",
        "# Train the model\n",
        "dt_clf.fit(X_train, y_train)\n",
        "\n",
        "# Predictions\n",
        "y_pred_train_dt = dt_clf.predict(X_train)\n",
        "y_pred_test_dt = dt_clf.predict(X_test)\n",
        "\n",
        "# Evaluate the model\n",
        "accuracy_train_dt = accuracy_score(y_train, y_pred_train_dt)\n",
        "accuracy_test_dt = accuracy_score(y_test, y_pred_test_dt)\n",
        "\n",
        "print(f\"Decision Tree Training Accuracy: {accuracy_train_dt}\")\n",
        "print(f\"Decision Tree Testing Accuracy: {accuracy_test_dt}\")\n",
        "\n",
        "# Classification report\n",
        "print(\"Classification Report for Decision Tree on Test Set:\")\n",
        "print(classification_report(y_test, y_pred_test_dt))"
      ],
      "metadata": {
        "colab": {
          "base_uri": "https://localhost:8080/"
        },
        "id": "Jo8qsDB_3imI",
        "outputId": "79b5d274-5516-4469-f2e5-b02ac86c17a0"
      },
      "execution_count": 20,
      "outputs": [
        {
          "output_type": "stream",
          "name": "stdout",
          "text": [
            "Decision Tree Training Accuracy: 0.9971383660473178\n",
            "Decision Tree Testing Accuracy: 0.6521038207319039\n",
            "Classification Report for Decision Tree on Test Set:\n",
            "              precision    recall  f1-score   support\n",
            "\n",
            "           0       0.63      0.58      0.60      1756\n",
            "           1       0.63      0.65      0.64      2510\n",
            "           2       0.70      0.72      0.71      1937\n",
            "\n",
            "    accuracy                           0.65      6203\n",
            "   macro avg       0.65      0.65      0.65      6203\n",
            "weighted avg       0.65      0.65      0.65      6203\n",
            "\n"
          ]
        }
      ]
    },
    {
      "cell_type": "code",
      "source": [
        "from sklearn.ensemble import RandomForestClassifier\n",
        "\n",
        "rf_model = RandomForestClassifier(n_estimators=100, random_state=42)\n",
        "rf_model.fit(X_train, y_train)\n",
        "\n",
        "y_pred_rf = rf_model.predict(X_test)\n",
        "print(\"Random Forest Accuracy:\", accuracy_score(y_test, y_pred_rf))\n"
      ],
      "metadata": {
        "colab": {
          "base_uri": "https://localhost:8080/"
        },
        "id": "x4nolVRi3n9J",
        "outputId": "82ef55e5-4815-412b-fbea-e1756648cfbf"
      },
      "execution_count": 21,
      "outputs": [
        {
          "output_type": "stream",
          "name": "stdout",
          "text": [
            "Random Forest Accuracy: 0.7091729808157343\n"
          ]
        }
      ]
    },
    {
      "cell_type": "code",
      "source": [
        "import joblib\n",
        "\n",
        "# Save existing models\n",
        "joblib.dump(log_reg, 'log_reg.pkl')\n",
        "joblib.dump(lin_reg, 'lin_reg.pkl')\n",
        "joblib.dump(nb_model, 'nb_model.pkl')\n",
        "joblib.dump(xgb_model, 'xgb_model.pkl')\n",
        "joblib.dump(rf_model, 'rf_model.pkl')\n",
        "joblib.dump(svm_model, 'svm_model.pkl')\n",
        "joblib.dump(dt_clf, 'dt_model.pkl')\n",
        "\n",
        "\n",
        "\n",
        "# Save the shared vectorizer\n",
        "joblib.dump(vectorizer, 'vectorizer.pkl')"
      ],
      "metadata": {
        "colab": {
          "base_uri": "https://localhost:8080/"
        },
        "id": "5Spbs4DD31hI",
        "outputId": "ddce0e10-5950-4a9a-fa13-c06357533347"
      },
      "execution_count": 30,
      "outputs": [
        {
          "output_type": "execute_result",
          "data": {
            "text/plain": [
              "['vectorizer.pkl']"
            ]
          },
          "metadata": {},
          "execution_count": 30
        }
      ]
    },
    {
      "cell_type": "code",
      "source": [
        "from google.colab import files\n",
        "\n",
        "# Existing models\n",
        "files.download('log_reg.pkl')\n",
        "files.download('lin_reg.pkl')\n",
        "files.download('nb_model.pkl')\n",
        "files.download('xgb_model.pkl')\n",
        "files.download('rf_model.pkl')\n",
        "files.download('svm_model.pkl')\n",
        "files.download('dt_model.pkl')\n",
        "\n",
        "# Shared vectorizer\n",
        "files.download('vectorizer.pkl')"
      ],
      "metadata": {
        "colab": {
          "base_uri": "https://localhost:8080/",
          "height": 17
        },
        "id": "qVOO2ZT54lKw",
        "outputId": "efaedf70-067c-4ecf-bc3d-d741854cc283"
      },
      "execution_count": 31,
      "outputs": [
        {
          "output_type": "display_data",
          "data": {
            "text/plain": [
              "<IPython.core.display.Javascript object>"
            ],
            "application/javascript": [
              "\n",
              "    async function download(id, filename, size) {\n",
              "      if (!google.colab.kernel.accessAllowed) {\n",
              "        return;\n",
              "      }\n",
              "      const div = document.createElement('div');\n",
              "      const label = document.createElement('label');\n",
              "      label.textContent = `Downloading \"${filename}\": `;\n",
              "      div.appendChild(label);\n",
              "      const progress = document.createElement('progress');\n",
              "      progress.max = size;\n",
              "      div.appendChild(progress);\n",
              "      document.body.appendChild(div);\n",
              "\n",
              "      const buffers = [];\n",
              "      let downloaded = 0;\n",
              "\n",
              "      const channel = await google.colab.kernel.comms.open(id);\n",
              "      // Send a message to notify the kernel that we're ready.\n",
              "      channel.send({})\n",
              "\n",
              "      for await (const message of channel.messages) {\n",
              "        // Send a message to notify the kernel that we're ready.\n",
              "        channel.send({})\n",
              "        if (message.buffers) {\n",
              "          for (const buffer of message.buffers) {\n",
              "            buffers.push(buffer);\n",
              "            downloaded += buffer.byteLength;\n",
              "            progress.value = downloaded;\n",
              "          }\n",
              "        }\n",
              "      }\n",
              "      const blob = new Blob(buffers, {type: 'application/binary'});\n",
              "      const a = document.createElement('a');\n",
              "      a.href = window.URL.createObjectURL(blob);\n",
              "      a.download = filename;\n",
              "      div.appendChild(a);\n",
              "      a.click();\n",
              "      div.remove();\n",
              "    }\n",
              "  "
            ]
          },
          "metadata": {}
        },
        {
          "output_type": "display_data",
          "data": {
            "text/plain": [
              "<IPython.core.display.Javascript object>"
            ],
            "application/javascript": [
              "download(\"download_79988fed-d9c9-4016-aa67-8223a671d2e5\", \"log_reg.pkl\", 479727)"
            ]
          },
          "metadata": {}
        },
        {
          "output_type": "display_data",
          "data": {
            "text/plain": [
              "<IPython.core.display.Javascript object>"
            ],
            "application/javascript": [
              "\n",
              "    async function download(id, filename, size) {\n",
              "      if (!google.colab.kernel.accessAllowed) {\n",
              "        return;\n",
              "      }\n",
              "      const div = document.createElement('div');\n",
              "      const label = document.createElement('label');\n",
              "      label.textContent = `Downloading \"${filename}\": `;\n",
              "      div.appendChild(label);\n",
              "      const progress = document.createElement('progress');\n",
              "      progress.max = size;\n",
              "      div.appendChild(progress);\n",
              "      document.body.appendChild(div);\n",
              "\n",
              "      const buffers = [];\n",
              "      let downloaded = 0;\n",
              "\n",
              "      const channel = await google.colab.kernel.comms.open(id);\n",
              "      // Send a message to notify the kernel that we're ready.\n",
              "      channel.send({})\n",
              "\n",
              "      for await (const message of channel.messages) {\n",
              "        // Send a message to notify the kernel that we're ready.\n",
              "        channel.send({})\n",
              "        if (message.buffers) {\n",
              "          for (const buffer of message.buffers) {\n",
              "            buffers.push(buffer);\n",
              "            downloaded += buffer.byteLength;\n",
              "            progress.value = downloaded;\n",
              "          }\n",
              "        }\n",
              "      }\n",
              "      const blob = new Blob(buffers, {type: 'application/binary'});\n",
              "      const a = document.createElement('a');\n",
              "      a.href = window.URL.createObjectURL(blob);\n",
              "      a.download = filename;\n",
              "      div.appendChild(a);\n",
              "      a.click();\n",
              "      div.remove();\n",
              "    }\n",
              "  "
            ]
          },
          "metadata": {}
        },
        {
          "output_type": "display_data",
          "data": {
            "text/plain": [
              "<IPython.core.display.Javascript object>"
            ],
            "application/javascript": [
              "download(\"download_193e88cb-24aa-4c24-a4eb-d18fb65e9772\", \"lin_reg.pkl\", 160081)"
            ]
          },
          "metadata": {}
        },
        {
          "output_type": "display_data",
          "data": {
            "text/plain": [
              "<IPython.core.display.Javascript object>"
            ],
            "application/javascript": [
              "\n",
              "    async function download(id, filename, size) {\n",
              "      if (!google.colab.kernel.accessAllowed) {\n",
              "        return;\n",
              "      }\n",
              "      const div = document.createElement('div');\n",
              "      const label = document.createElement('label');\n",
              "      label.textContent = `Downloading \"${filename}\": `;\n",
              "      div.appendChild(label);\n",
              "      const progress = document.createElement('progress');\n",
              "      progress.max = size;\n",
              "      div.appendChild(progress);\n",
              "      document.body.appendChild(div);\n",
              "\n",
              "      const buffers = [];\n",
              "      let downloaded = 0;\n",
              "\n",
              "      const channel = await google.colab.kernel.comms.open(id);\n",
              "      // Send a message to notify the kernel that we're ready.\n",
              "      channel.send({})\n",
              "\n",
              "      for await (const message of channel.messages) {\n",
              "        // Send a message to notify the kernel that we're ready.\n",
              "        channel.send({})\n",
              "        if (message.buffers) {\n",
              "          for (const buffer of message.buffers) {\n",
              "            buffers.push(buffer);\n",
              "            downloaded += buffer.byteLength;\n",
              "            progress.value = downloaded;\n",
              "          }\n",
              "        }\n",
              "      }\n",
              "      const blob = new Blob(buffers, {type: 'application/binary'});\n",
              "      const a = document.createElement('a');\n",
              "      a.href = window.URL.createObjectURL(blob);\n",
              "      a.download = filename;\n",
              "      div.appendChild(a);\n",
              "      a.click();\n",
              "      div.remove();\n",
              "    }\n",
              "  "
            ]
          },
          "metadata": {}
        },
        {
          "output_type": "display_data",
          "data": {
            "text/plain": [
              "<IPython.core.display.Javascript object>"
            ],
            "application/javascript": [
              "download(\"download_3dea574e-623e-4fd2-807d-9aa765fe636e\", \"nb_model.pkl\", 958447)"
            ]
          },
          "metadata": {}
        },
        {
          "output_type": "display_data",
          "data": {
            "text/plain": [
              "<IPython.core.display.Javascript object>"
            ],
            "application/javascript": [
              "\n",
              "    async function download(id, filename, size) {\n",
              "      if (!google.colab.kernel.accessAllowed) {\n",
              "        return;\n",
              "      }\n",
              "      const div = document.createElement('div');\n",
              "      const label = document.createElement('label');\n",
              "      label.textContent = `Downloading \"${filename}\": `;\n",
              "      div.appendChild(label);\n",
              "      const progress = document.createElement('progress');\n",
              "      progress.max = size;\n",
              "      div.appendChild(progress);\n",
              "      document.body.appendChild(div);\n",
              "\n",
              "      const buffers = [];\n",
              "      let downloaded = 0;\n",
              "\n",
              "      const channel = await google.colab.kernel.comms.open(id);\n",
              "      // Send a message to notify the kernel that we're ready.\n",
              "      channel.send({})\n",
              "\n",
              "      for await (const message of channel.messages) {\n",
              "        // Send a message to notify the kernel that we're ready.\n",
              "        channel.send({})\n",
              "        if (message.buffers) {\n",
              "          for (const buffer of message.buffers) {\n",
              "            buffers.push(buffer);\n",
              "            downloaded += buffer.byteLength;\n",
              "            progress.value = downloaded;\n",
              "          }\n",
              "        }\n",
              "      }\n",
              "      const blob = new Blob(buffers, {type: 'application/binary'});\n",
              "      const a = document.createElement('a');\n",
              "      a.href = window.URL.createObjectURL(blob);\n",
              "      a.download = filename;\n",
              "      div.appendChild(a);\n",
              "      a.click();\n",
              "      div.remove();\n",
              "    }\n",
              "  "
            ]
          },
          "metadata": {}
        },
        {
          "output_type": "display_data",
          "data": {
            "text/plain": [
              "<IPython.core.display.Javascript object>"
            ],
            "application/javascript": [
              "download(\"download_e1665799-0fbd-4503-b67c-94b44e70e784\", \"xgb_model.pkl\", 598364)"
            ]
          },
          "metadata": {}
        },
        {
          "output_type": "display_data",
          "data": {
            "text/plain": [
              "<IPython.core.display.Javascript object>"
            ],
            "application/javascript": [
              "\n",
              "    async function download(id, filename, size) {\n",
              "      if (!google.colab.kernel.accessAllowed) {\n",
              "        return;\n",
              "      }\n",
              "      const div = document.createElement('div');\n",
              "      const label = document.createElement('label');\n",
              "      label.textContent = `Downloading \"${filename}\": `;\n",
              "      div.appendChild(label);\n",
              "      const progress = document.createElement('progress');\n",
              "      progress.max = size;\n",
              "      div.appendChild(progress);\n",
              "      document.body.appendChild(div);\n",
              "\n",
              "      const buffers = [];\n",
              "      let downloaded = 0;\n",
              "\n",
              "      const channel = await google.colab.kernel.comms.open(id);\n",
              "      // Send a message to notify the kernel that we're ready.\n",
              "      channel.send({})\n",
              "\n",
              "      for await (const message of channel.messages) {\n",
              "        // Send a message to notify the kernel that we're ready.\n",
              "        channel.send({})\n",
              "        if (message.buffers) {\n",
              "          for (const buffer of message.buffers) {\n",
              "            buffers.push(buffer);\n",
              "            downloaded += buffer.byteLength;\n",
              "            progress.value = downloaded;\n",
              "          }\n",
              "        }\n",
              "      }\n",
              "      const blob = new Blob(buffers, {type: 'application/binary'});\n",
              "      const a = document.createElement('a');\n",
              "      a.href = window.URL.createObjectURL(blob);\n",
              "      a.download = filename;\n",
              "      div.appendChild(a);\n",
              "      a.click();\n",
              "      div.remove();\n",
              "    }\n",
              "  "
            ]
          },
          "metadata": {}
        },
        {
          "output_type": "display_data",
          "data": {
            "text/plain": [
              "<IPython.core.display.Javascript object>"
            ],
            "application/javascript": [
              "download(\"download_489f964e-68d9-47aa-843c-ed3eb5ab5bea\", \"rf_model.pkl\", 185902497)"
            ]
          },
          "metadata": {}
        },
        {
          "output_type": "display_data",
          "data": {
            "text/plain": [
              "<IPython.core.display.Javascript object>"
            ],
            "application/javascript": [
              "\n",
              "    async function download(id, filename, size) {\n",
              "      if (!google.colab.kernel.accessAllowed) {\n",
              "        return;\n",
              "      }\n",
              "      const div = document.createElement('div');\n",
              "      const label = document.createElement('label');\n",
              "      label.textContent = `Downloading \"${filename}\": `;\n",
              "      div.appendChild(label);\n",
              "      const progress = document.createElement('progress');\n",
              "      progress.max = size;\n",
              "      div.appendChild(progress);\n",
              "      document.body.appendChild(div);\n",
              "\n",
              "      const buffers = [];\n",
              "      let downloaded = 0;\n",
              "\n",
              "      const channel = await google.colab.kernel.comms.open(id);\n",
              "      // Send a message to notify the kernel that we're ready.\n",
              "      channel.send({})\n",
              "\n",
              "      for await (const message of channel.messages) {\n",
              "        // Send a message to notify the kernel that we're ready.\n",
              "        channel.send({})\n",
              "        if (message.buffers) {\n",
              "          for (const buffer of message.buffers) {\n",
              "            buffers.push(buffer);\n",
              "            downloaded += buffer.byteLength;\n",
              "            progress.value = downloaded;\n",
              "          }\n",
              "        }\n",
              "      }\n",
              "      const blob = new Blob(buffers, {type: 'application/binary'});\n",
              "      const a = document.createElement('a');\n",
              "      a.href = window.URL.createObjectURL(blob);\n",
              "      a.download = filename;\n",
              "      div.appendChild(a);\n",
              "      a.click();\n",
              "      div.remove();\n",
              "    }\n",
              "  "
            ]
          },
          "metadata": {}
        },
        {
          "output_type": "display_data",
          "data": {
            "text/plain": [
              "<IPython.core.display.Javascript object>"
            ],
            "application/javascript": [
              "download(\"download_3e137513-231e-4ac5-ac71-8793f78cbbf8\", \"svm_model.pkl\", 2356931)"
            ]
          },
          "metadata": {}
        },
        {
          "output_type": "display_data",
          "data": {
            "text/plain": [
              "<IPython.core.display.Javascript object>"
            ],
            "application/javascript": [
              "\n",
              "    async function download(id, filename, size) {\n",
              "      if (!google.colab.kernel.accessAllowed) {\n",
              "        return;\n",
              "      }\n",
              "      const div = document.createElement('div');\n",
              "      const label = document.createElement('label');\n",
              "      label.textContent = `Downloading \"${filename}\": `;\n",
              "      div.appendChild(label);\n",
              "      const progress = document.createElement('progress');\n",
              "      progress.max = size;\n",
              "      div.appendChild(progress);\n",
              "      document.body.appendChild(div);\n",
              "\n",
              "      const buffers = [];\n",
              "      let downloaded = 0;\n",
              "\n",
              "      const channel = await google.colab.kernel.comms.open(id);\n",
              "      // Send a message to notify the kernel that we're ready.\n",
              "      channel.send({})\n",
              "\n",
              "      for await (const message of channel.messages) {\n",
              "        // Send a message to notify the kernel that we're ready.\n",
              "        channel.send({})\n",
              "        if (message.buffers) {\n",
              "          for (const buffer of message.buffers) {\n",
              "            buffers.push(buffer);\n",
              "            downloaded += buffer.byteLength;\n",
              "            progress.value = downloaded;\n",
              "          }\n",
              "        }\n",
              "      }\n",
              "      const blob = new Blob(buffers, {type: 'application/binary'});\n",
              "      const a = document.createElement('a');\n",
              "      a.href = window.URL.createObjectURL(blob);\n",
              "      a.download = filename;\n",
              "      div.appendChild(a);\n",
              "      a.click();\n",
              "      div.remove();\n",
              "    }\n",
              "  "
            ]
          },
          "metadata": {}
        },
        {
          "output_type": "display_data",
          "data": {
            "text/plain": [
              "<IPython.core.display.Javascript object>"
            ],
            "application/javascript": [
              "download(\"download_8803441b-c820-41d0-9e57-4a1721dd205d\", \"dt_model.pkl\", 1115153)"
            ]
          },
          "metadata": {}
        },
        {
          "output_type": "display_data",
          "data": {
            "text/plain": [
              "<IPython.core.display.Javascript object>"
            ],
            "application/javascript": [
              "\n",
              "    async function download(id, filename, size) {\n",
              "      if (!google.colab.kernel.accessAllowed) {\n",
              "        return;\n",
              "      }\n",
              "      const div = document.createElement('div');\n",
              "      const label = document.createElement('label');\n",
              "      label.textContent = `Downloading \"${filename}\": `;\n",
              "      div.appendChild(label);\n",
              "      const progress = document.createElement('progress');\n",
              "      progress.max = size;\n",
              "      div.appendChild(progress);\n",
              "      document.body.appendChild(div);\n",
              "\n",
              "      const buffers = [];\n",
              "      let downloaded = 0;\n",
              "\n",
              "      const channel = await google.colab.kernel.comms.open(id);\n",
              "      // Send a message to notify the kernel that we're ready.\n",
              "      channel.send({})\n",
              "\n",
              "      for await (const message of channel.messages) {\n",
              "        // Send a message to notify the kernel that we're ready.\n",
              "        channel.send({})\n",
              "        if (message.buffers) {\n",
              "          for (const buffer of message.buffers) {\n",
              "            buffers.push(buffer);\n",
              "            downloaded += buffer.byteLength;\n",
              "            progress.value = downloaded;\n",
              "          }\n",
              "        }\n",
              "      }\n",
              "      const blob = new Blob(buffers, {type: 'application/binary'});\n",
              "      const a = document.createElement('a');\n",
              "      a.href = window.URL.createObjectURL(blob);\n",
              "      a.download = filename;\n",
              "      div.appendChild(a);\n",
              "      a.click();\n",
              "      div.remove();\n",
              "    }\n",
              "  "
            ]
          },
          "metadata": {}
        },
        {
          "output_type": "display_data",
          "data": {
            "text/plain": [
              "<IPython.core.display.Javascript object>"
            ],
            "application/javascript": [
              "download(\"download_71f451ea-fcfa-49b8-9b69-9096da2c101e\", \"vectorizer.pkl\", 405633)"
            ]
          },
          "metadata": {}
        }
      ]
    },
    {
      "cell_type": "code",
      "source": [
        "from sklearn.metrics import accuracy_score, r2_score\n",
        "\n",
        "# Existing models\n",
        "y_pred_log = log_reg.predict(X_test)\n",
        "acc_log = accuracy_score(y_test, y_pred_log)\n",
        "\n",
        "y_pred_lin = lin_reg.predict(X_test)\n",
        "acc_lin = r2_score(y_test, y_pred_lin)  # Regression model\n",
        "\n",
        "y_pred_nb = nb_model.predict(X_test)\n",
        "acc_nb = accuracy_score(y_test, y_pred_nb)\n",
        "\n",
        "y_pred_xgb = xgb_model.predict(X_test)\n",
        "acc_xgb = accuracy_score(y_test, y_pred_xgb)\n",
        "\n",
        "y_pred_rf = rf_model.predict(X_test)\n",
        "acc_rf = accuracy_score(y_test, y_pred_rf)\n",
        "\n",
        "y_pred_svm = svm_model.predict(X_test)\n",
        "acc_svm = accuracy_score(y_test, y_pred_svm)\n",
        "\n",
        "y_pred_dt = dt_clf.predict(X_test)\n",
        "acc_dt = accuracy_score(y_test, y_pred_dt)\n"
      ],
      "metadata": {
        "id": "ZPpQgX-d4umV"
      },
      "execution_count": 34,
      "outputs": []
    },
    {
      "cell_type": "code",
      "source": [
        "accuracies = {\n",
        "    'Logistic Regression': acc_log,\n",
        "    'Linear Regression (R²)': acc_lin,\n",
        "    'Naive Bayes': acc_nb,\n",
        "    'XGBoost': acc_xgb,\n",
        "    'Random Forest': acc_rf,\n",
        "    'SVM': acc_svm,\n",
        "    'Decision Tree': acc_dt\n",
        "}\n",
        "\n",
        "# Save as pkl\n",
        "joblib.dump(accuracies, 'accuracies.pkl')\n",
        "\n",
        "\n",
        "# For downloading in Jupyter Notebook\n",
        "from google.colab import files\n",
        "files.download('accuracies.pkl')\n"
      ],
      "metadata": {
        "colab": {
          "base_uri": "https://localhost:8080/",
          "height": 17
        },
        "id": "7TXnDZ194xa1",
        "outputId": "337243f8-6692-407d-8144-db9f46da7c85"
      },
      "execution_count": 35,
      "outputs": [
        {
          "output_type": "display_data",
          "data": {
            "text/plain": [
              "<IPython.core.display.Javascript object>"
            ],
            "application/javascript": [
              "\n",
              "    async function download(id, filename, size) {\n",
              "      if (!google.colab.kernel.accessAllowed) {\n",
              "        return;\n",
              "      }\n",
              "      const div = document.createElement('div');\n",
              "      const label = document.createElement('label');\n",
              "      label.textContent = `Downloading \"${filename}\": `;\n",
              "      div.appendChild(label);\n",
              "      const progress = document.createElement('progress');\n",
              "      progress.max = size;\n",
              "      div.appendChild(progress);\n",
              "      document.body.appendChild(div);\n",
              "\n",
              "      const buffers = [];\n",
              "      let downloaded = 0;\n",
              "\n",
              "      const channel = await google.colab.kernel.comms.open(id);\n",
              "      // Send a message to notify the kernel that we're ready.\n",
              "      channel.send({})\n",
              "\n",
              "      for await (const message of channel.messages) {\n",
              "        // Send a message to notify the kernel that we're ready.\n",
              "        channel.send({})\n",
              "        if (message.buffers) {\n",
              "          for (const buffer of message.buffers) {\n",
              "            buffers.push(buffer);\n",
              "            downloaded += buffer.byteLength;\n",
              "            progress.value = downloaded;\n",
              "          }\n",
              "        }\n",
              "      }\n",
              "      const blob = new Blob(buffers, {type: 'application/binary'});\n",
              "      const a = document.createElement('a');\n",
              "      a.href = window.URL.createObjectURL(blob);\n",
              "      a.download = filename;\n",
              "      div.appendChild(a);\n",
              "      a.click();\n",
              "      div.remove();\n",
              "    }\n",
              "  "
            ]
          },
          "metadata": {}
        },
        {
          "output_type": "display_data",
          "data": {
            "text/plain": [
              "<IPython.core.display.Javascript object>"
            ],
            "application/javascript": [
              "download(\"download_d90ff6e1-c53a-4274-8013-e97c504479b9\", \"accuracies.pkl\", 189)"
            ]
          },
          "metadata": {}
        }
      ]
    }
  ]
}